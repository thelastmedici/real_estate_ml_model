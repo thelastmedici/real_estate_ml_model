{
 "cells": [
  {
   "metadata": {
    "ExecuteTime": {
     "end_time": "2025-08-03T12:21:01.581635Z",
     "start_time": "2025-08-03T12:21:00.557611Z"
    }
   },
   "cell_type": "code",
   "source": [
    "import pandas as pd\n",
    "from sklearn.model_selection import  train_test_split"
   ],
   "id": "c6ee8e4035e45c0",
   "outputs": [],
   "execution_count": 1
  },
  {
   "metadata": {
    "ExecuteTime": {
     "end_time": "2025-08-03T12:26:23.121941Z",
     "start_time": "2025-08-03T12:26:23.079723Z"
    }
   },
   "cell_type": "code",
   "source": [
    "#Read Data\n",
    "X_full = pd.read_csv('train.csv', index_col='Id') #train data set\n",
    "X_test_full = pd.read_csv('test.csv', index_col='Id') #test data set"
   ],
   "id": "bcaa541dbfd26382",
   "outputs": [],
   "execution_count": 3
  },
  {
   "metadata": {
    "ExecuteTime": {
     "end_time": "2025-08-03T12:33:54.927349Z",
     "start_time": "2025-08-03T12:33:54.915340Z"
    }
   },
   "cell_type": "code",
   "source": [
    "#obtain Target i.e what we want to predict\n",
    "y = X_full['SalePrice']\n",
    "\n",
    "#obtain features that would be used to predict the target\n",
    "features = ['LotArea', 'YearBuilt', '1stFlrSF', '2ndFlrSF', 'FullBath', 'BedroomAbvGr', 'TotRmsAbvGrd']\n",
    "X = X_full[features].copy()\n",
    "X_test = X_test_full[features].copy()\n"
   ],
   "id": "d484b4f93042aa23",
   "outputs": [],
   "execution_count": 4
  }
 ],
 "metadata": {
  "kernelspec": {
   "display_name": "Python 3",
   "language": "python",
   "name": "python3"
  },
  "language_info": {
   "codemirror_mode": {
    "name": "ipython",
    "version": 2
   },
   "file_extension": ".py",
   "mimetype": "text/x-python",
   "name": "python",
   "nbconvert_exporter": "python",
   "pygments_lexer": "ipython2",
   "version": "2.7.6"
  }
 },
 "nbformat": 4,
 "nbformat_minor": 5
}
