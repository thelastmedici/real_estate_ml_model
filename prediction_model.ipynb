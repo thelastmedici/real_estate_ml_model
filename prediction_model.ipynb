{
 "cells": [
  {
   "metadata": {
    "ExecuteTime": {
     "end_time": "2025-08-03T15:51:52.226627Z",
     "start_time": "2025-08-03T15:51:52.221317Z"
    }
   },
   "cell_type": "code",
   "source": [
    "import pandas as pd\n",
    "from sklearn.model_selection import  train_test_split\n",
    "from sklearn.ensemble import RandomForestRegressor\n",
    "from sklearn.metrics import mean_absolute_error"
   ],
   "id": "c6ee8e4035e45c0",
   "outputs": [],
   "execution_count": 17
  },
  {
   "metadata": {
    "ExecuteTime": {
     "end_time": "2025-08-03T15:51:52.286349Z",
     "start_time": "2025-08-03T15:51:52.256945Z"
    }
   },
   "cell_type": "code",
   "source": [
    "#Read Data\n",
    "X_full = pd.read_csv('train.csv', index_col='Id') #train data set\n",
    "X_test_full = pd.read_csv('test.csv', index_col='Id') #test data set"
   ],
   "id": "bcaa541dbfd26382",
   "outputs": [],
   "execution_count": 18
  },
  {
   "metadata": {
    "ExecuteTime": {
     "end_time": "2025-08-03T15:51:52.334165Z",
     "start_time": "2025-08-03T15:51:52.329311Z"
    }
   },
   "cell_type": "code",
   "source": [
    "#obtain Target i.e what we want to predict\n",
    "y = X_full['SalePrice']\n",
    "\n",
    "#obtain features that would be used to predict the target\n",
    "features = ['LotArea', 'YearBuilt', '1stFlrSF', '2ndFlrSF', 'FullBath', 'BedroomAbvGr', 'TotRmsAbvGrd']\n",
    "X = X_full[features].copy() #create independent copy of X with features\n",
    "X_test = X_test_full[features].copy() #create independent copy of X_test using the features"
   ],
   "id": "d484b4f93042aa23",
   "outputs": [],
   "execution_count": 19
  },
  {
   "metadata": {
    "ExecuteTime": {
     "end_time": "2025-08-03T15:51:52.415299Z",
     "start_time": "2025-08-03T15:51:52.407971Z"
    }
   },
   "cell_type": "code",
   "source": [
    "#Break off validation set from training data using test_train_split\n",
    "\n",
    "X_train,X_valid,y_train,y_valid = train_test_split(X,y, train_size=0.8, test_size=0.2, random_state=0)\n"
   ],
   "id": "c88ecee367d93823",
   "outputs": [],
   "execution_count": 20
  },
  {
   "metadata": {
    "ExecuteTime": {
     "end_time": "2025-08-03T15:51:52.514348Z",
     "start_time": "2025-08-03T15:51:52.510567Z"
    }
   },
   "cell_type": "code",
   "source": [
    "#define models\n",
    "model_1= RandomForestRegressor(n_estimators=50, random_state=0)\n",
    "model_2 = RandomForestRegressor(n_estimators=100, random_state=0)\n",
    "model_3 = RandomForestRegressor(n_estimators=100, criterion='absolute_error', random_state=0)\n",
    "model_4 = RandomForestRegressor(n_estimators=200, min_samples_split=20, random_state=0)\n",
    "model_5 = RandomForestRegressor(n_estimators=100, max_depth=7, random_state=0)\n",
    "\n",
    "models =[model_1, model_2, model_3, model_4, model_5]\n"
   ],
   "id": "6136897722c5e520",
   "outputs": [],
   "execution_count": 21
  },
  {
   "metadata": {
    "ExecuteTime": {
     "end_time": "2025-08-03T15:53:16.019408Z",
     "start_time": "2025-08-03T15:53:12.382682Z"
    }
   },
   "cell_type": "code",
   "source": [
    "#function for comparing different model\n",
    "def score_model(model, X_t= X_train, X_v = X_valid, y_t=y_train, y_v=y_valid):\n",
    "    #fit the model\n",
    "    model.fit(X_t, y_t)\n",
    "    preds = model.predict(X_v)\n",
    "    return  mean_absolute_error(y_v, preds)\n",
    "\n",
    "for i in range(0, len(models)):\n",
    "    mae = score_model(models[i])\n",
    "    print(\"Model %d MAE: %d\" % (i+1, mae))"
   ],
   "id": "1a37b83186963bb6",
   "outputs": [
    {
     "name": "stdout",
     "output_type": "stream",
     "text": [
      "Model 1 MAE: 24015\n",
      "Model 2 MAE: 23740\n",
      "Model 3 MAE: 23528\n",
      "Model 4 MAE: 23996\n",
      "Model 5 MAE: 23706\n"
     ]
    }
   ],
   "execution_count": 23
  },
  {
   "metadata": {},
   "cell_type": "markdown",
   "source": "GENERATE TEST PREDICTIONS\n",
   "id": "36bea4d268f3d229"
  },
  {
   "metadata": {
    "ExecuteTime": {
     "end_time": "2025-08-03T16:09:59.252520Z",
     "start_time": "2025-08-03T16:09:59.249287Z"
    }
   },
   "cell_type": "code",
   "source": [
    "#Define a model and pass in the best model\n",
    "model = RandomForestRegressor(model_3)"
   ],
   "id": "fe9146d3acc93bb9",
   "outputs": [],
   "execution_count": 28
  }
 ],
 "metadata": {
  "kernelspec": {
   "display_name": "Python 3",
   "language": "python",
   "name": "python3"
  },
  "language_info": {
   "codemirror_mode": {
    "name": "ipython",
    "version": 2
   },
   "file_extension": ".py",
   "mimetype": "text/x-python",
   "name": "python",
   "nbconvert_exporter": "python",
   "pygments_lexer": "ipython2",
   "version": "2.7.6"
  }
 },
 "nbformat": 4,
 "nbformat_minor": 5
}
